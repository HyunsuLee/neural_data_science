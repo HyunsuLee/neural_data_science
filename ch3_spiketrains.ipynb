{
 "cells": [
  {
   "cell_type": "markdown",
   "metadata": {},
   "source": [
    "# Chapter 3 Wrangling Spike Trains"
   ]
  },
  {
   "cell_type": "code",
   "execution_count": 1,
   "metadata": {},
   "outputs": [
    {
     "data": {
      "text/plain": [
       "21"
      ]
     },
     "execution_count": 1,
     "metadata": {},
     "output_type": "execute_result"
    }
   ],
   "source": [
    "spike_train = [0,0,0,0,0,0,0,0,0,1,0,1,0,1,0,0,0,1,0,0,0]\n",
    "len(spike_train)"
   ]
  },
  {
   "cell_type": "code",
   "execution_count": 3,
   "metadata": {},
   "outputs": [
    {
     "name": "stdout",
     "output_type": "stream",
     "text": [
      "4\n"
     ]
    }
   ],
   "source": [
    "light_onset_time = 5\n",
    "spike_value = 1\n",
    "latency_to_first_spike = spike_train[light_onset_time:].index(spike_value)\n",
    "print(latency_to_first_spike)"
   ]
  },
  {
   "cell_type": "code",
   "execution_count": 4,
   "metadata": {},
   "outputs": [
    {
     "name": "stdout",
     "output_type": "stream",
     "text": [
      "[9, 11, 13, 17]\n"
     ]
    }
   ],
   "source": [
    "spike_time = [i for i, x in enumerate(spike_train) if x == spike_value]\n",
    "print(spike_time)"
   ]
  },
  {
   "cell_type": "code",
   "execution_count": 13,
   "metadata": {},
   "outputs": [],
   "source": [
    "import matplotlib.pyplot as plt\n",
    "%matplotlib inline"
   ]
  },
  {
   "cell_type": "code",
   "execution_count": 16,
   "metadata": {},
   "outputs": [
    {
     "data": {
      "text/plain": [
       "Text(0.5, 0, 'Time(in ms)')"
      ]
     },
     "execution_count": 16,
     "metadata": {},
     "output_type": "execute_result"
    },
    {
     "data": {
      "image/png": "[encoded data removed]",
      "text/plain": [
       "<Figure size 432x288 with 1 Axes>"
      ]
     },
     "metadata": {
      "needs_background": "light"
     },
     "output_type": "display_data"
    }
   ],
   "source": [
    "plt.subplot(111)\n",
    "plt.vlines(spike_time, 0, 1)\n",
    "plt.axvspan(5, 14, alpha = 0.1, color='g')\n",
    "plt.xlim([0,20])\n",
    "plt.title('this neuron spikes in response to a single light stimus')\n",
    "plt.xlabel('Time(in ms)')"
   ]
  },
  {
   "cell_type": "markdown",
   "metadata": {},
   "source": [
    "* original book has spike train matrix for ten neurons.\n",
    "* but it is too annoying to type the whole array.\n",
    "* so I generate the random data for spike train by binomial random function of numpy"
   ]
  },
  {
   "cell_type": "code",
   "execution_count": 17,
   "metadata": {},
   "outputs": [],
   "source": [
    "import numpy as np"
   ]
  },
  {
   "cell_type": "code",
   "execution_count": 37,
   "metadata": {},
   "outputs": [],
   "source": [
    "pre_stimulus = np.random.binomial(1, 0.01, [10, 5])\n",
    "stimulus = np.random.binomial(1, 0.3, [10, 9])\n",
    "post_stimulus = np.random.binomial(1, 0.1, [10, 7])"
   ]
  },
  {
   "cell_type": "code",
   "execution_count": 39,
   "metadata": {},
   "outputs": [],
   "source": [
    "ten_spike_trains = np.hstack((pre_stimulus, stimulus, post_stimulus))"
   ]
  },
  {
   "cell_type": "code",
   "execution_count": 43,
   "metadata": {},
   "outputs": [
    {
     "name": "stdout",
     "output_type": "stream",
     "text": [
      "10\n",
      "21\n"
     ]
    }
   ],
   "source": [
    "print(len(ten_spike_trains))\n",
    "print(len(ten_spike_trains[0]))"
   ]
  },
  {
   "cell_type": "code",
   "execution_count": 48,
   "metadata": {},
   "outputs": [
    {
     "data": {
      "text/plain": [
       "([<matplotlib.axis.YTick at 0x7fa3079f7860>,\n",
       "  <matplotlib.axis.YTick at 0x7fa3079f7208>,\n",
       "  <matplotlib.axis.YTick at 0x7fa307a31eb8>,\n",
       "  <matplotlib.axis.YTick at 0x7fa307a4d908>,\n",
       "  <matplotlib.axis.YTick at 0x7fa307a3b518>,\n",
       "  <matplotlib.axis.YTick at 0x7fa307a3b198>,\n",
       "  <matplotlib.axis.YTick at 0x7fa308351278>,\n",
       "  <matplotlib.axis.YTick at 0x7fa307a87cc0>,\n",
       "  <matplotlib.axis.YTick at 0x7fa307a87438>,\n",
       "  <matplotlib.axis.YTick at 0x7fa307a87e48>],\n",
       " <a list of 10 Text yticklabel objects>)"
      ]
     },
     "execution_count": 48,
     "metadata": {},
     "output_type": "execute_result"
    },
    {
     "data": {
      "image/png": "[encoded data removed]",
      "text/plain": [
       "<Figure size 432x288 with 1 Axes>"
      ]
     },
     "metadata": {
      "needs_background": "light"
     },
     "output_type": "display_data"
    }
   ],
   "source": [
    "plt.subplot(1,1,1)\n",
    "for trial in range(len(ten_spike_trains)):\n",
    "    spike_time = [i for i, x in enumerate(ten_spike_trains[trial]) if x == 1]\n",
    "    plt.vlines(spike_time, trial, trial + 1)\n",
    "plt.axvspan(5, 14, alpha = 0.1, color='g')\n",
    "plt.xlim([0,20])\n",
    "plt.ylim([0,10])\n",
    "plt.title('this neuron spikes to repeated trials of the same stimus')\n",
    "plt.xlabel('Time(in ms)')\n",
    "plt.ylabel('trial number')\n",
    "plt.yticks([x + 0.5 for x in range(10)], [str(x + 1) for x in range(10)])"
   ]
  },
  {
   "cell_type": "code",
   "execution_count": null,
   "metadata": {},
   "outputs": [],
   "source": []
  }
 ],
 "metadata": {
  "kernelspec": {
   "display_name": "Python 3",
   "language": "python",
   "name": "python3"
  },
  "language_info": {
   "codemirror_mode": {
    "name": "ipython",
    "version": 3
   },
   "file_extension": ".py",
   "mimetype": "text/x-python",
   "name": "python",
   "nbconvert_exporter": "python",
   "pygments_lexer": "ipython3",
   "version": "3.7.3"
  }
 },
 "nbformat": 4,
 "nbformat_minor": 4
}

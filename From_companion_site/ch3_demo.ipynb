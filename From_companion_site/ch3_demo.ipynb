{
 "cells": [
  {
   "cell_type": "code",
   "execution_count": 1,
   "metadata": {},
   "outputs": [],
   "source": [
    "import matplotlib.pyplot as plt\n",
    "import numpy as np\n",
    "import pickle\n",
    "%matplotlib inline"
   ]
  },
  {
   "cell_type": "code",
   "execution_count": 2,
   "metadata": {},
   "outputs": [],
   "source": [
    "spikeTrain = [0,0,0,0,0,0,0,0,0,1,0,1,0,1,0,0,0,1,0,0,0]"
   ]
  },
  {
   "cell_type": "code",
   "execution_count": 3,
   "metadata": {
    "collapsed": false,
    "jupyter": {
     "outputs_hidden": false
    }
   },
   "outputs": [
    {
     "data": {
      "text/plain": [
       "4"
      ]
     },
     "execution_count": 3,
     "metadata": {},
     "output_type": "execute_result"
    }
   ],
   "source": [
    "lightOnsetTime = 5\n",
    "spikeValue = 1\n",
    "spikeTrain[lightOnsetTime:].index(spikeValue)"
   ]
  },
  {
   "cell_type": "code",
   "execution_count": 4,
   "metadata": {
    "collapsed": false,
    "jupyter": {
     "outputs_hidden": false
    }
   },
   "outputs": [
    {
     "ename": "SyntaxError",
     "evalue": "Missing parentheses in call to 'print'. Did you mean print(latencyToFirstSpike)? (<ipython-input-4-f2ca0494b567>, line 2)",
     "output_type": "error",
     "traceback": [
      "\u001b[0;36m  File \u001b[0;32m\"<ipython-input-4-f2ca0494b567>\"\u001b[0;36m, line \u001b[0;32m2\u001b[0m\n\u001b[0;31m    print latencyToFirstSpike\u001b[0m\n\u001b[0m                            ^\u001b[0m\n\u001b[0;31mSyntaxError\u001b[0m\u001b[0;31m:\u001b[0m Missing parentheses in call to 'print'. Did you mean print(latencyToFirstSpike)?\n"
     ]
    }
   ],
   "source": [
    "latencyToFirstSpike = spikeTrain[lightOnsetTime:].index(spikeValue) \n",
    "print latencyToFirstSpike"
   ]
  },
  {
   "cell_type": "code",
   "execution_count": null,
   "metadata": {
    "collapsed": false,
    "jupyter": {
     "outputs_hidden": false
    }
   },
   "outputs": [],
   "source": [
    "spikeTimes = [i for i,x in enumerate(spikeTrain) if x==1]\n",
    "print spikeTimes"
   ]
  },
  {
   "cell_type": "code",
   "execution_count": null,
   "metadata": {
    "collapsed": false,
    "jupyter": {
     "outputs_hidden": false
    }
   },
   "outputs": [],
   "source": [
    "fig = plt.figure()\n",
    "ax = plt.subplot(111)\n",
    "plt.vlines(spikeTimes, 0, 1)\n",
    "plt.axvspan(5,14,alpha=0.1,color='g')\n",
    "plt.xlim([0,20])\n",
    "plt.title('this neuron spikes in response to a single light stimulus') \n",
    "plt.xlabel('time (in milliseconds)')"
   ]
  },
  {
   "cell_type": "code",
   "execution_count": null,
   "metadata": {
    "collapsed": false,
    "jupyter": {
     "outputs_hidden": false
    }
   },
   "outputs": [],
   "source": []
  },
  {
   "cell_type": "code",
   "execution_count": null,
   "metadata": {},
   "outputs": [],
   "source": [
    "tenSpikeTrains = [[0,0,0,0,0,0,0,0,0,1,0,1,0,1,0,0,0,1,0,0,0],[0,0,0,0,0,0,0,0,1,1,0,0,0,1,0,0,\n",
    "0,1,0,0,0],[0,1,0,0,0,0,0,0,0,0,1,0,0,1,0,0,0,0,0,1,0],[0,0,0,0,0,0,0,0,1,1,0,1,0,0,0,0,0,0,1,0,0],\n",
    "[0,0,0,0,0,0,0,0,0,1,0,0,1,0,0,0,0,0,0,0,0],[0,0,0,0,0,0,0,0,0,0,1,1,0,0,0,1,0,0,0,1,0],[0,0,0,0,0,\n",
    "0,0,0,1,1,1,0,0,1,1,0,0,1,1,0,0],[1,0,0,0,0,0,0,0,0,0,1,1,0,0,0,0,1,0,0,0,0],[0,0,0,0,0,0,0,0,1,1,0\n",
    ",0,1,1,0,0,1,1,0,0,0],[0,0,0,0,0,0,1,0,0,1,0,1,0,0,0,0,0,1,1,0,0]]"
   ]
  },
  {
   "cell_type": "code",
   "execution_count": null,
   "metadata": {
    "collapsed": false,
    "jupyter": {
     "outputs_hidden": false
    }
   },
   "outputs": [],
   "source": [
    "fig = plt.figure()\n",
    "ax = plt.subplot(1,1,1)\n",
    "for trial in range(len(tenSpikeTrains)):\n",
    "    spikeTimes = [i for i,x in enumerate(tenSpikeTrains[trial]) if x==1]\n",
    "    plt.vlines(spikeTimes,trial,trial+1)\n",
    "plt.axvspan(5,14,alpha=0.1,color='g')\n",
    "plt.xlim([0,20])\n",
    "plt.ylim([0,10])\n",
    "plt.title('this neuron spikes to repeated trials of the same stimulus')\n",
    "plt.xlabel('time (in milliseconds)')\n",
    "plt.ylabel('trial number')\n",
    "plt.yticks([x+0.5 for x in \\\n",
    "            range(10)],[str(x+1) for x in \\\n",
    "                        range(10)]) #1"
   ]
  },
  {
   "cell_type": "code",
   "execution_count": null,
   "metadata": {
    "collapsed": false,
    "jupyter": {
     "outputs_hidden": false
    }
   },
   "outputs": [],
   "source": [
    "# The Python way for Figure 3.7. \n",
    "fig=plt.figure()\n",
    "ax=plt.subplot(211)\n",
    "for trial in range(len(tenSpikeTrains)): \n",
    "    spikeTimes = [i for i,x in enumerate(tenSpikeTrains[trial]) if x==1] \n",
    "    plt.vlines(spikeTimes,trial,trial+1) \n",
    "    plt.axvspan(5,14,alpha=0.1,color='g') \n",
    "    plt.ylim([0,10])\n",
    "plt.title('this neuron still spikes to repeated trials of the same stimulus')\n",
    "plt.xlabel('time (in milliseconds)')\n",
    "plt.ylabel('trial number')\n",
    "plt.yticks([x+0.5 for x in range(10)], [str(x+1) for x in range(10)])\n",
    "ax=plt.subplot(212)\n",
    "plt.axvspan(5,14,alpha=0.1,color='g')\n",
    "ax.bar(range(21),np.sum(tenSpikeTrains,0),1)\n",
    "plt.xlabel('time (in milliseconds)')\n",
    "plt.ylabel('# of spike occurrences at this time')\n",
    "# End Python code for Figure 3.7"
   ]
  },
  {
   "cell_type": "code",
   "execution_count": null,
   "metadata": {
    "collapsed": false,
    "jupyter": {
     "outputs_hidden": false
    }
   },
   "outputs": [],
   "source": [
    "fig=plt.figure()\n",
    "plt.bar(range(21), np.mean(tenSpikeTrains,0),1)\n",
    "plt.axhline(y=0.5,xmin=0,xmax=20,linestyle='--',color='k')"
   ]
  },
  {
   "cell_type": "code",
   "execution_count": null,
   "metadata": {
    "collapsed": false,
    "jupyter": {
     "outputs_hidden": false
    }
   },
   "outputs": [],
   "source": [
    "# The Python way for Figure 3.8\n",
    "fig=plt.figure() \n",
    "plt.axvspan(5,14,alpha=0.1,color='g') \n",
    "plt.bar(range(21), np.mean(tenSpikeTrains,0),1) \n",
    "plt.axhline(y=0.5,xmin=0,xmax=20,linestyle='--',color='k')\n",
    "plt.title('Spike probability given 10 stimulus trials')\n",
    "plt.xlabel('time (in milliseconds)')\n",
    "plt.ylabel('probability of spike occurrences at this time')\n",
    "plt.savefig('Figure 3.8normalized PSTH with cutoff.png')\n",
    "# End Python code for Figure 3.8"
   ]
  },
  {
   "cell_type": "code",
   "execution_count": null,
   "metadata": {
    "collapsed": false,
    "jupyter": {
     "outputs_hidden": false
    }
   },
   "outputs": [],
   "source": [
    "# code for Figure 3.9\n",
    "\n",
    "with open('tenIntensities.pkl', 'rb') as handle:\n",
    "    tenIntensities = pickle.load(handle)\n",
    "fig = plt.figure()\n",
    "numIntensities = len(tenIntensities)\n",
    "nbar={}\n",
    "for key in tenIntensities.keys():\n",
    "    ax=plt.subplot(numIntensities,2,float(key[0])*2+1)\n",
    "    for trial in range(10): # this relies on there being 10 trials per stimulus intensit\n",
    "        plt.vlines(tenIntensities[key][trial],trial,trial+1)\n",
    "    plt.xlim([0,20]);plt.ylim([0,10])\n",
    "    plt.ylabel('intensity: '+str(key[0])+'\\ntrial # ',style='italic',fontsize=5)\n",
    "    plt.yticks(fontsize=5)\n",
    "    plt.axvspan(5,14,alpha=0.1*float(key[0]),color='g')\n",
    "    if float(key[0]) < 9:\n",
    "        plt.xlabel('');plt.xticks([])\n",
    "    else:\n",
    "        plt.xlabel('time in milliseconds')\n",
    "    if float(key[0]) == 0:\n",
    "        plt.title('raster plot of spiking for each intensity',fontsize=10)\n",
    "    ax=plt.subplot(numIntensities,2,float(key[0])*2+2)\n",
    "    plt.axvspan(5,14,alpha=0.1*float(key[0]),color='g')\n",
    "    spikeTimes = [a for b in tenIntensities[key] for a in b] #1\n",
    "    nOut,bins=np.histogram(spikeTimes,bins=range(20))\n",
    "    nbar[float(key[0])] = nOut/10.\n",
    "    plt.bar(bins[:-1],nOut/10.)\n",
    "    plt.xlim([0,20]); plt.ylim([0,1])\n",
    "    plt.yticks(fontsize=5)\n",
    "    plt.ylabel('spike prob',style='italic',fontsize = 6)\n",
    "    if float(key[0]) == 0:\n",
    "        plt.title('PSTH for each intensity',fontsize=10)\n",
    "    if float(key[0]) < numIntensities-1:\n",
    "        plt.xlabel(''); plt.xticks([])\n",
    "    else:\n",
    "        plt.xlabel('time in milliseconds')\n",
    "#plt.show()\n",
    "#plt.savefig('Figure subplot 10 intensity rasters and psths.png')"
   ]
  },
  {
   "cell_type": "code",
   "execution_count": null,
   "metadata": {
    "collapsed": false,
    "jupyter": {
     "outputs_hidden": false
    }
   },
   "outputs": [],
   "source": [
    "# Begin the Python way for Figure 3.10\n",
    "fig = plt.figure()\n",
    "ax = plt.subplot(111)\n",
    "aa = ax.imshow(nbar.values(),cmap='hot', interpolation='bilinear')\n",
    "plt.yticks([x for x in range(10)],[str(x) for x in\n",
    "range(10)[::-1]])\n",
    "plt.ylabel('stimulus intensity')\n",
    "plt.xlabel('time in milliseconds')\n",
    "plt.title('heat map of mean spiking for various intensity stimuli')\n",
    "cb = fig.colorbar(aa,shrink=0.5) \n",
    "cb.ax.set_ylabel('mean spikes per time bin') # End Python way for Figure 3.10"
   ]
  },
  {
   "cell_type": "code",
   "execution_count": null,
   "metadata": {
    "collapsed": false,
    "jupyter": {
     "outputs_hidden": false
    }
   },
   "outputs": [],
   "source": [
    "fig = plt.figure(); ax = plt.subplot(221)\n",
    "aa = ax.imshow(nbar.values(),cmap='hot' ,interpolation='bilinear',aspect=1.2) \n",
    "plt.yticks([]); plt.xticks([])\n",
    "ax = plt.subplot(222)\n",
    "aa = ax.imshow(nbar.values(),cmap='bone', interpolation='nearest',aspect=1.2) \n",
    "plt.yticks([]); plt.xticks([])\n",
    "ax = plt.subplot(223);\n",
    "aa = ax.imshow(nbar.values(),cmap='jet', interpolation='bicubic',aspect=1.2) \n",
    "plt.yticks([]); plt.xticks([])\n",
    "ax = plt.subplot(224)\n",
    "aa = ax.imshow(nbar.values(),cmap='cool', interpolation='nearest',aspect=1.2)\n",
    "plt.yticks([]); plt.xticks([])\n",
    "plt.savefig('Figure 3.10- 4 heatmaps labels off.png')"
   ]
  },
  {
   "cell_type": "code",
   "execution_count": null,
   "metadata": {
    "collapsed": true,
    "jupyter": {
     "outputs_hidden": true
    }
   },
   "outputs": [],
   "source": []
  }
 ],
 "metadata": {
  "anaconda-cloud": {},
  "kernelspec": {
   "display_name": "Python 3",
   "language": "python",
   "name": "python3"
  },
  "language_info": {
   "codemirror_mode": {
    "name": "ipython",
    "version": 3
   },
   "file_extension": ".py",
   "mimetype": "text/x-python",
   "name": "python",
   "nbconvert_exporter": "python",
   "pygments_lexer": "ipython3",
   "version": "3.7.3"
  }
 },
 "nbformat": 4,
 "nbformat_minor": 4
}
